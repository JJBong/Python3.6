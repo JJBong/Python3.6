{
 "cells": [
  {
   "cell_type": "markdown",
   "metadata": {},
   "source": [
    "# List, Tuple, Dictionary, if, while, for, 문자열, 자료형의 활용, 파일 입출력, 람다, 함수, 클래스"
   ]
  },
  {
   "cell_type": "code",
   "execution_count": null,
   "metadata": {
    "collapsed": true
   },
   "outputs": [],
   "source": []
  },
  {
   "cell_type": "code",
   "execution_count": null,
   "metadata": {
    "collapsed": true
   },
   "outputs": [],
   "source": []
  },
  {
   "cell_type": "code",
   "execution_count": null,
   "metadata": {
    "collapsed": true
   },
   "outputs": [],
   "source": []
  },
  {
   "cell_type": "code",
   "execution_count": null,
   "metadata": {
    "collapsed": true
   },
   "outputs": [],
   "source": []
  },
  {
   "cell_type": "code",
   "execution_count": null,
   "metadata": {
    "collapsed": true
   },
   "outputs": [],
   "source": []
  },
  {
   "cell_type": "code",
   "execution_count": null,
   "metadata": {
    "collapsed": true
   },
   "outputs": [],
   "source": []
  },
  {
   "cell_type": "code",
   "execution_count": 3,
   "metadata": {
    "collapsed": true
   },
   "outputs": [],
   "source": [
    "#lamda example\n",
    "#lamda = 축약함수, 대부분의 경우 1회성으로 사용\n",
    "g = lambda x, y: x + y"
   ]
  },
  {
   "cell_type": "code",
   "execution_count": null,
   "metadata": {
    "collapsed": true
   },
   "outputs": [],
   "source": []
  },
  {
   "cell_type": "markdown",
   "metadata": {},
   "source": [
    "# 1. 1000보다 작은 자연수 중에서 3 또는 5의 배수를 모두 더하면 얼마일까요?"
   ]
  },
  {
   "cell_type": "code",
   "execution_count": null,
   "metadata": {
    "collapsed": true
   },
   "outputs": [],
   "source": []
  },
  {
   "cell_type": "markdown",
   "metadata": {},
   "source": [
    "# 2. 정수 X에 사용할 수 있는 연산은 다음과 같이 세 가지 이다.\n",
    "\n",
    "##    * X가 3으로 나누어 떨어지면, 3으로 나눈다.\n",
    "##    * X가 2로 나누어 떨어지면, 2로 나눈다.\n",
    "##    * 1을 뺀다.\n",
    "# 정수 N이 주어졌을 때, 위와 같은 연산 세 개를 적절히 사용해서 1을 만들려고 한다. 연산을 사용하는 횟수의 최소값을 출력하시오.\n",
    "\n",
    "### ---- 첫째 줄에 1보다 크거나 같고, 106보다 작거나 같은 자연수 N이 주어진다.\n",
    "### ---- 둘째 줄에 연산을 하는 횟수의 최소값을 출력한다."
   ]
  },
  {
   "cell_type": "code",
   "execution_count": 126,
   "metadata": {
    "collapsed": false
   },
   "outputs": [
    {
     "name": "stdout",
     "output_type": "stream",
     "text": [
      "1000000\n",
      "19\n"
     ]
    }
   ],
   "source": [
    "n = int(input())\n",
    "l = list()\n",
    "for i in range(1000001):\n",
    "    l.append(0)\n",
    "l[1] = 0\n",
    "l[2] = 1\n",
    "l[3] = 1\n",
    "tmp = 0\n",
    "for i in range(4,1000001):\n",
    "    l[i] = l[i-1] + 1\n",
    "    if i%2 == 0:\n",
    "        tmp = l[int(i/2)]+1\n",
    "        if tmp < l[i]:\n",
    "            l[i] = tmp\n",
    "    if i%3 == 0:\n",
    "        tmp = l[int(i/3)]+1\n",
    "        if tmp < l[i]:\n",
    "            l[i] = tmp\n",
    "print(l[n])"
   ]
  }
 ],
 "metadata": {
  "kernelspec": {
   "display_name": "Python 3",
   "language": "python",
   "name": "python3"
  },
  "language_info": {
   "codemirror_mode": {
    "name": "ipython",
    "version": 3
   },
   "file_extension": ".py",
   "mimetype": "text/x-python",
   "name": "python",
   "nbconvert_exporter": "python",
   "pygments_lexer": "ipython3",
   "version": "3.6.0"
  }
 },
 "nbformat": 4,
 "nbformat_minor": 2
}
